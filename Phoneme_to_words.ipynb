{
 "cells": [
  {
   "cell_type": "code",
   "execution_count": 12,
   "id": "8cae8afd-8594-4224-b7b1-eef464346a4d",
   "metadata": {},
   "outputs": [
    {
     "name": "stdout",
     "output_type": "stream",
     "text": [
      "Matches found: ['bae', 'bi', 'buy', 'by', 'bye']\n"
     ]
    }
   ],
   "source": [
    "import nltk\n",
    "from nltk.corpus import cmudict\n",
    "from functools import lru_cache\n",
    "from collections import defaultdict\n",
    "\n",
    "# Download the CMU Dictionary\n",
    "# nltk.download('cmudict')\n",
    "cmudict_dict = cmudict.dict()\n",
    "\n",
    "# Step 1: Build the optimized phoneme-to-word dictionary\n",
    "phoneme_to_words = defaultdict(list)\n",
    "\n",
    "# Populate phoneme_to_words with phoneme sequences as keys\n",
    "for word, phoneme_lists in cmudict_dict.items():\n",
    "    for phoneme_seq in phoneme_lists:\n",
    "        phoneme_tuple = tuple(phoneme_seq)  # Keep phoneme sequence as tuple (hashable)\n",
    "        phoneme_to_words[phoneme_tuple].append(word)\n",
    "\n",
    "# Step 2: Lookup function to find all potential words for a given phoneme sequence\n",
    "@lru_cache(maxsize=10000)\n",
    "def lookup_phoneme_sequence(phoneme_seq):\n",
    "    phoneme_seq = tuple(phoneme_seq)  # Ensure the input is hashable (tuple)\n",
    "    return phoneme_to_words.get(phoneme_seq, None)  # O(1) lookup for matching words\n",
    "\n",
    "# Example usage (corrected to use a tuple as input)\n",
    "# phoneme_sequence = (\"HH\", \"AH0\", \"L\", \"OW1\")  # Use a tuple instead of a list\n",
    "phoneme_sequence = (\"B\", \"AY1\")\n",
    "matches = lookup_phoneme_sequence(phoneme_sequence)\n",
    "if matches:\n",
    "    print(\"Matches found:\", matches)\n",
    "else:\n",
    "    print(\"No matches found\")"
   ]
  },
  {
   "cell_type": "code",
   "execution_count": 6,
   "id": "d8e9c655-a121-4475-b0cd-4b5876ef91b6",
   "metadata": {},
   "outputs": [
    {
     "name": "stdout",
     "output_type": "stream",
     "text": [
      "['HH', 'AH0', 'L', 'OW1']\n",
      "('HH', 'AH0', 'L', 'OW1')\n"
     ]
    }
   ],
   "source": [
    "phoneme_seqs = [\"HH\", \"AH0\", \"L\", \"OW1\"]\n",
    "print(phoneme_seqs)\n",
    "print(tuple(phoneme_seqs))"
   ]
  },
  {
   "cell_type": "code",
   "execution_count": 13,
   "id": "3358afe9-afa9-423d-b4e5-52c126e7de1f",
   "metadata": {},
   "outputs": [
    {
     "name": "stderr",
     "output_type": "stream",
     "text": [
      "[nltk_data] Downloading package brown to\n",
      "[nltk_data]     C:\\Users\\Dell\\AppData\\Roaming\\nltk_data...\n",
      "[nltk_data]   Unzipping corpora\\brown.zip.\n"
     ]
    },
    {
     "data": {
      "text/plain": [
       "True"
      ]
     },
     "execution_count": 13,
     "metadata": {},
     "output_type": "execute_result"
    }
   ],
   "source": [
    "# Download corpus for n-gram model\n",
    "nltk.download('brown')"
   ]
  },
  {
   "cell_type": "code",
   "execution_count": 14,
   "id": "40fbf6bd-55d2-4621-81d1-9748d24566ee",
   "metadata": {
    "scrolled": true
   },
   "outputs": [
    {
     "name": "stderr",
     "output_type": "stream",
     "text": [
      "[nltk_data] Downloading package brown to\n",
      "[nltk_data]     C:\\Users\\Dell\\AppData\\Roaming\\nltk_data...\n",
      "[nltk_data]   Package brown is already up-to-date!\n"
     ]
    },
    {
     "data": {
      "text/plain": [
       "True"
      ]
     },
     "execution_count": 14,
     "metadata": {},
     "output_type": "execute_result"
    }
   ],
   "source": [
    "# Download corpus for n-gram model\n",
    "nltk.download('brown')"
   ]
  },
  {
   "cell_type": "code",
   "execution_count": 34,
   "id": "1e097afb-c2a0-400b-bdcf-4eefec387570",
   "metadata": {},
   "outputs": [
    {
     "data": {
      "text/plain": [
       "0.970299"
      ]
     },
     "execution_count": 34,
     "metadata": {},
     "output_type": "execute_result"
    }
   ],
   "source": [
    "0.99 ** 3"
   ]
  },
  {
   "cell_type": "code",
   "execution_count": 35,
   "id": "59c9a924-ea92-4f12-932f-38ca6692c3ac",
   "metadata": {},
   "outputs": [
    {
     "data": {
      "text/plain": [
       "7.762392"
      ]
     },
     "execution_count": 35,
     "metadata": {},
     "output_type": "execute_result"
    }
   ],
   "source": [
    "0.970299 * 8"
   ]
  }
 ],
 "metadata": {
  "kernelspec": {
   "display_name": "Python 3 (ipykernel)",
   "language": "python",
   "name": "python3"
  },
  "language_info": {
   "codemirror_mode": {
    "name": "ipython",
    "version": 3
   },
   "file_extension": ".py",
   "mimetype": "text/x-python",
   "name": "python",
   "nbconvert_exporter": "python",
   "pygments_lexer": "ipython3",
   "version": "3.11.7"
  }
 },
 "nbformat": 4,
 "nbformat_minor": 5
}
